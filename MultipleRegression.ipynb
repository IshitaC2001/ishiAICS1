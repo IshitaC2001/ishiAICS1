{
  "nbformat": 4,
  "nbformat_minor": 0,
  "metadata": {
    "colab": {
      "provenance": [],
      "mount_file_id": "16TuLkCX-DuOXXLmi51rchQFBZD-BM077",
      "authorship_tag": "ABX9TyNKd64K09bwX6NYPwOK5KsG",
      "include_colab_link": true
    },
    "kernelspec": {
      "name": "python3",
      "display_name": "Python 3"
    },
    "language_info": {
      "name": "python"
    }
  },
  "cells": [
    {
      "cell_type": "markdown",
      "metadata": {
        "id": "view-in-github",
        "colab_type": "text"
      },
      "source": [
        "<a href=\"https://colab.research.google.com/github/IshitaC2001/ishiAICS1/blob/main/MultipleRegression.ipynb\" target=\"_parent\"><img src=\"https://colab.research.google.com/assets/colab-badge.svg\" alt=\"Open In Colab\"/></a>"
      ]
    },
    {
      "cell_type": "code",
      "execution_count": null,
      "metadata": {
        "colab": {
          "base_uri": "https://localhost:8080/"
        },
        "id": "GCWfey1FKdG9",
        "outputId": "755e407d-33a9-4e90-cba9-8a73c4db7d0b"
      },
      "outputs": [
        {
          "output_type": "stream",
          "name": "stdout",
          "text": [
            "Profit is :  [167296.30070575]\n"
          ]
        },
        {
          "output_type": "stream",
          "name": "stderr",
          "text": [
            "/usr/local/lib/python3.7/dist-packages/sklearn/base.py:451: UserWarning: X does not have valid feature names, but LinearRegression was fitted with feature names\n",
            "  \"X does not have valid feature names, but\"\n"
          ]
        }
      ],
      "source": [
        "import pandas\n",
        "from sklearn import linear_model\n",
        "\n",
        "df = pandas.read_csv(\"/content/drive/MyDrive/AICS/50_Startups - 50_Startups.csv\")\n",
        "x1, x2,x3,x4,x5 =df[['R&D Spend', 'Administration', 'Marketing Spend', 'New York', 'California']]\n",
        "\n",
        "X = df[[x1,x2,x3,x4,x5]]\n",
        "Y = df['Profit']\n",
        "\n",
        "regr = linear_model.LinearRegression()\n",
        "regr.fit(X, Y)\n",
        "\n",
        "profit = regr.predict([[145286, 15000, 17500, 0,1]])\n",
        "\n",
        "print('Profit is : ',profit)\n",
        "# # R&D Spend\tAdministration\tMarketing Spend\tState\tNew York\tCalifornia\tFlorida\tProfit"
      ]
    },
    {
      "cell_type": "code",
      "source": [
        "from google.colab import drive\n",
        "drive.mount('/content/drive')"
      ],
      "metadata": {
        "id": "3xD6KdeqSUpm",
        "colab": {
          "base_uri": "https://localhost:8080/"
        },
        "outputId": "23171ca9-bf89-47f2-f95f-256fb2acabf4"
      },
      "execution_count": null,
      "outputs": [
        {
          "output_type": "stream",
          "name": "stdout",
          "text": [
            "Drive already mounted at /content/drive; to attempt to forcibly remount, call drive.mount(\"/content/drive\", force_remount=True).\n"
          ]
        }
      ]
    }
  ]
}