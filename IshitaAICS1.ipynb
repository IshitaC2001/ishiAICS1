{
  "nbformat": 4,
  "nbformat_minor": 0,
  "metadata": {
    "colab": {
      "provenance": [],
      "collapsed_sections": [],
      "authorship_tag": "ABX9TyNN41RxYh9g4u2KqMEp+VwD",
      "include_colab_link": true
    },
    "kernelspec": {
      "name": "python3",
      "display_name": "Python 3"
    },
    "language_info": {
      "name": "python"
    }
  },
  "cells": [
    {
      "cell_type": "markdown",
      "metadata": {
        "id": "view-in-github",
        "colab_type": "text"
      },
      "source": [
        "<a href=\"https://colab.research.google.com/github/IshitaC2001/ishiAICS1/blob/main/IshitaAICS1.ipynb\" target=\"_parent\"><img src=\"https://colab.research.google.com/assets/colab-badge.svg\" alt=\"Open In Colab\"/></a>"
      ]
    },
    {
      "cell_type": "code",
      "execution_count": null,
      "metadata": {
        "id": "rHUDR2PbYtE6"
      },
      "outputs": [],
      "source": []
    },
    {
      "cell_type": "markdown",
      "source": [
        "1] Dictionary"
      ],
      "metadata": {
        "id": "yCteka5-Z-tJ"
      }
    },
    {
      "cell_type": "code",
      "source": [
        "dict1 = {\n",
        "  \"Name\": \"Ishita Chauhan\",\n",
        "  \"Roll no.\": \"04\",\n",
        "  \"Subject\": \"Cyber Security\"\n",
        "}\n",
        "print(dict1)\n",
        "print(\"Length : \",len(dict1))\n",
        "print(\"The name of the person is : \",dict1['Name'])\n",
        "dict1.update({\"Subject\": \"AICS\"})\n",
        "print(dict1)"
      ],
      "metadata": {
        "colab": {
          "base_uri": "https://localhost:8080/"
        },
        "id": "LOPQEIafZ73i",
        "outputId": "65fb9249-4672-4b1a-a3d7-0d0870c0c38b"
      },
      "execution_count": null,
      "outputs": [
        {
          "output_type": "stream",
          "name": "stdout",
          "text": [
            "{'Name': 'Ishita Chauhan', 'Roll no.': '04', 'Subject': 'Cyber Security'}\n",
            "Length :  3\n",
            "The name of the person is :  Ishita Chauhan\n",
            "{'Name': 'Ishita Chauhan', 'Roll no.': '04', 'Subject': 'AICS'}\n"
          ]
        }
      ]
    },
    {
      "cell_type": "code",
      "source": [
        "list1 = [\"mango\", 21, True, 20, \"home\"]\n",
        "print(list1)\n",
        "print(len(list1))\n",
        "print(type(list1))\n",
        "print(list1[0])\n",
        "print(list1[-1])"
      ],
      "metadata": {
        "colab": {
          "base_uri": "https://localhost:8080/"
        },
        "id": "CiZap8Zxcrqb",
        "outputId": "9cdfb027-0b01-47f6-e5fd-ee5fc26d1c9d"
      },
      "execution_count": null,
      "outputs": [
        {
          "output_type": "stream",
          "name": "stdout",
          "text": [
            "['mango', 21, True, 20, 'home']\n",
            "<class 'list'>\n",
            "mango\n",
            "True\n"
          ]
        }
      ]
    }
  ]
}